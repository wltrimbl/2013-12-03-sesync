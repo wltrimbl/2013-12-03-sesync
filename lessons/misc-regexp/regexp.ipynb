{
 "metadata": {
  "name": "regexp"
 },
 "nbformat": 3,
 "nbformat_minor": 0,
 "worksheets": [
  {
   "cells": [
    {
     "cell_type": "markdown",
     "metadata": {},
     "source": [
      "\n",
      "#  Regular Expressions\n",
      "\n",
      "When manipulating strings, the task of finding a string that contains a certain substring is \n",
      "very common--we can use `string.find(substring)` to check for this, but often we\n",
      "need more flexibility than exact matches. \n",
      "\n"
     ]
    },
    {
     "cell_type": "code",
     "collapsed": false,
     "input": [
      "mystring = \"Hello world!\"\n",
      "mystring.find(\"world\")"
     ],
     "language": "python",
     "metadata": {},
     "outputs": [
      {
       "output_type": "pyout",
       "prompt_number": 6,
       "text": [
        "6"
       ]
      }
     ],
     "prompt_number": 6
    },
    {
     "cell_type": "markdown",
     "metadata": {},
     "source": [
      "Regular expressions are a convention for speccifying match patterns that allow us to match\n",
      "match more complicated patterns.   Sometimes regular expressions are likened to a miniature\n",
      "programming language.   There are slight variations in regular expression syntax between\n",
      "perl, python, and unix utilities like grep, sed, and awk, but the essential functionality is \n",
      "the same.  "
     ]
    },
    {
     "cell_type": "markdown",
     "metadata": {},
     "source": [
      "\n",
      "# Regular expression syntax resembles wildcard shell expansion \n",
      "\n",
      "But the agreement is not perfect:\n",
      "    \n",
      "* In the shell, the '?' character is the single-character wildcard; it matches any character except '/'.\n",
      "* In regular expresisons syntax '.' is the single-character wildcard; it matches any character except the newline.\n",
      "* In the shell, the * characer matches zero or more characters (except '/') \n",
      "* In regular expressions syntax \".*\" is a combination of the single-character wildcard and the \"zero or more times\" quantifier.\n",
      "\n",
      "\n",
      "\n"
     ]
    },
    {
     "cell_type": "markdown",
     "metadata": {},
     "source": [
      "`ls /bin/??              # list files in /bin with exactly two characters in their name`\n",
      "\n",
      "`ls /bin | grep '^..$'   # do the same using grep  ` \n",
      "\n",
      "`ls /bin/* `\n",
      "\n",
      "`ls /bin | grep '.*'  `"
     ]
    },
    {
     "cell_type": "markdown",
     "metadata": {},
     "source": [
      "Speaking of the shell, since some of the punctuation marks in regular expressions ( like ? and *) \n",
      "have meaning to the shell, it is good practice to put quotation marks around regular expressions \n",
      "when using them on the command line. "
     ]
    },
    {
     "cell_type": "markdown",
     "metadata": {},
     "source": [
      "\n",
      "If our only task is filtering data line-by-line for matching a pattern, `grep` is our friend.\n",
      "We can show the most important parts of regular expression syntax by using `grep` to select\n",
      "lines from `months.txt` and `crossword.txt`, a list of the names of the 12 months and a list\n",
      "of 227,000 english words.  (Note: this is an easy way to cheat at crossword puzzles.)\n",
      "\n",
      "If our task has us extracting multiple fields from an expression, we probably want to use\n",
      "regular expressions in a scripting language like python.\n",
      "\n",
      "<img src=\"files/images/google_vs_grep.png\">\n",
      "\n",
      "#grep syntax\n",
      "\n",
      "    grep pattern [file]\n",
      "    Grep searches the named input FILEs (or standard input if no files are named) for lines \n",
      "containing a match to the given PATTERN.  By default, grep prints the matching lines.\n",
      "\n",
      "If we invoke grep with only one argument, it waits for input from standard in.  If we invoke\n",
      "with two arguments, `grep` treats the second argument as a filename and searches for the pattern\n",
      "in that file.  When we invoke `grep` with more than two arguments, all but the first argument\n",
      "are taken as filenames, and the output is prepdended with the name of the filename."
     ]
    },
    {
     "cell_type": "markdown",
     "metadata": {},
     "source": [
      "# Exact matches\n",
      "\n",
      "Most characters (including letters and numbers) match themselves in regular expressions.  \n",
      "\n",
      "`grep 'm' months.txt`\n",
      "\n",
      "Shows us a list of the lines in `months.txt` that contain a lower-case m anywhere in the line. It does not match upper case M.\n",
      "\n",
      "`grep 'z' months.txt`\n",
      "\n",
      "Shows us a list of the lines in `months.txt` that contain a lower-case z anywhere in the line.\n",
      "There aren't any, so the output is empty.\n",
      "\n",
      "`grep anders crossword.txt`\n",
      "shows all the lines in the file that contain the exact string anders."
     ]
    },
    {
     "cell_type": "markdown",
     "metadata": {},
     "source": [
      "# Beginning / end of line symbols\n",
      "\n",
      "Suppose we want only the lines that begin or end with a given string.\n",
      "\n",
      "The character  ^ (  **caret** ) at the beginning of a pattern will force a match to occur at the \n",
      "beginning of a line.  Matches not at the beginning of the line won't match.\n",
      "\n",
      "`grep '^[mM]' months.txt`\n",
      "\n",
      "Will only show the names of months that begin with *m* or *M*. Note that it doesn't include Septe<b>m</b>ber.\n",
      "\n",
      "The character  $ (  **dollar sign** ) will force a match to occur at the end of a line.\n",
      "\n",
      "`grep 'r' months.txt`\n",
      "shows all months with an r in the name\n",
      "`grep 'r$' months.txt \n",
      "shows all months which end in r \n",
      "\n",
      "### Challenge\n",
      "\n",
      "How can you grep empty lines?\n",
      "\n"
     ]
    },
    {
     "cell_type": "markdown",
     "metadata": {},
     "source": [
      "# Character classes\n",
      "\n",
      "Sets of characters that are enclosed in square brackets match a single character whose value \n",
      "is any of the enclosed characters:\n",
      "\n",
      "`grep '[mM]' months.txt`\n",
      "\n",
      "Shows us a list of the lines in `months.txt` that contain an m or M anywhere in the line.\n",
      "\n",
      "`grep '[a-e]' months.txt`\n",
      "\n",
      "Shows us a list of the lines in `months.txt` that contain a lower-case a, b, c, d, or e anywhere in the line.\n",
      "\n",
      "When the opening [ is followed by a caret, the block instead matches all characters except the \n",
      "listed characters : \n",
      "\n",
      "`grep '[^aeiou]$' months.txt  ` \n",
      "\n",
      "matches all the words that do not end with a capital vowels. *Notice that here carret has a different roles: It negates, instead of looking for the beginning of a line.*\n",
      "\n",
      "\n",
      "### Challenge\n",
      "\n",
      "In **crossword.txt** find all three-letter words that with *A*, followed by a consonant, and end on *x*, *y*, or *z*."
     ]
    },
    {
     "cell_type": "markdown",
     "metadata": {},
     "source": [
      "# More advanced functionality\n",
      "\n",
      "To do more sophisitcated regular expression matching without too much additional pain you want to look up *man egrep*, or move to **Python** directly.\n",
      "\n",
      "\n",
      "Let's look at a more complex example. [HIV can be divided into two major types, HIV type 1 (HIV-1) and HIV type 2 (HIV-2)](http://en.wikipedia.org/wiki/Subtypes_of_HIV). Group M (for *major*) can be further subdivided into subtypes based on genetic sequence data.\n",
      "\n",
      "* Subtype A is common in West Africa.\n",
      "* Subtype B is the dominant form in Europe, the Americas, Japan, Thailand, and Australia.\n",
      "\n",
      "There are several other subtypes, and any subtypes can occur combined. There are also several HIV tests, we will consider *antibody* and *antigen* tests.\n",
      "\n",
      "You are given the data file hivdata.txt with test data. It contains the patient names, which kind of test for which HIV-1 M subtype, and the date when the test was taken. Let's have a look at the data."
     ]
    },
    {
     "cell_type": "code",
     "collapsed": false,
     "input": [
      "!cat hivdata.txt"
     ],
     "language": "python",
     "metadata": {},
     "outputs": [
      {
       "output_type": "stream",
       "stream": "stdout",
       "text": [
        " name  test,HIV-1 M subtype         date\r\n",
        "   A3        antibody HIV-A   2003-06-11\r\n",
        "   B5        antibody HIV-B   2011-06-01\r\n",
        "  A11     HIV-B, (antibody)   2009-12-11\r\n",
        "  C21       HIV-A (antigen)   2010-11-03\r\n",
        "   C8   HIV-A/B, (antibody)    2003-8-15\r\n",
        "   33      antibody HIV-A/B     2003-2-2\r\n",
        "   A4        antibody HIV-B    1998-6-20\r\n",
        "  A18      HIV-B, (antigen)   1997-05-08\r\n",
        "   C7      HIV-B (antibody)    1995-10-7\r\n",
        "    6       antigen HIV-A/B   2003-11-15\r\n",
        "  B30       HIV-A (antigen)   200-006-09\r\n"
       ]
      }
     ],
     "prompt_number": 7
    },
    {
     "cell_type": "markdown",
     "metadata": {},
     "source": [
      "# Regexpal\n",
      "The site\n",
      "[http://regexpal.com/](http://regexpal.com/)\n",
      "as a form for a regular expression and a form for the data.  The website will highlight \n",
      "the parts of your data that match your regular expression on the fly.\n",
      "\n",
      "Copy and paste the content of hivdata.txt there."
     ]
    },
    {
     "cell_type": "markdown",
     "metadata": {},
     "source": [
      "\n",
      "# Quantifiers\n",
      "Quantifiers are where the real power of regular expressions appears.  Characters and character\n",
      "classes can be modified to match 0 or 1, 1 or more, or 0 or more times, or even a specified number\n",
      "of times. \n",
      "\n",
      "\n",
      "* a?\tZero or one of the character *a*.\n",
      "* a*\tZero or more of the character *a*.\n",
      "* a+\tOne or more of the character *a*.\n",
      "* a{n}\tExactly n of the character *a*.\n",
      "* a{n,}\tn or more of the character *a*.\n",
      "* a{m,n}\tBetween m and n of the character *a*."
     ]
    },
    {
     "cell_type": "markdown",
     "metadata": {},
     "source": [
      "### Challenges\n",
      "\n",
      "Show all tests that were taken\n",
      "\n",
      "1. in 2003\n",
      "\n",
      "2. after 2000 ('.' matches any single symbol, '\\d' matches any single digit)\n",
      "\n",
      "3. in November\n",
      "\n",
      "4. in June (either 06 or just 6)\n",
      "\n",
      "5. between February and August"
     ]
    },
    {
     "cell_type": "markdown",
     "metadata": {},
     "source": [
      "# Regular expressions in Python\n",
      "\n",
      "To use regular expressions in Python, import the re library. The command *re.split(pattern,mystring)* looks for the regular expression pattern in mystring. The syntax for patterns is *r\"mypattern\"*."
     ]
    },
    {
     "cell_type": "code",
     "collapsed": false,
     "input": [
      "import re\n",
      "pattern = \"y\"\n",
      "mystring = \"July\"\n",
      "print re.search(pattern,mystring)\n",
      "print \"re.search returns a MatchObject instance. Let's grab its string value:\"\n",
      "mymatch=re.search(pattern,mystring)\n",
      "print(mymatch.string)\n",
      "\n",
      "print \"---\"\n",
      "\n",
      "mystring2 = \"August\"\n",
      "print re.search(pattern,mystring2)\n",
      "print \"re.search returns None if there is no match\""
     ],
     "language": "python",
     "metadata": {},
     "outputs": [
      {
       "output_type": "stream",
       "stream": "stdout",
       "text": [
        "<_sre.SRE_Match object at 0x4f776b0>\n",
        "re.search returns a MatchObject instance. Let's grab its string value:\n",
        "July\n",
        "---\n",
        "None\n",
        "re.search returns None if there is no match\n"
       ]
      }
     ],
     "prompt_number": 34
    },
    {
     "cell_type": "markdown",
     "metadata": {},
     "source": [
      "Let's run regular expression on each line of hivdata.txt."
     ]
    },
    {
     "cell_type": "code",
     "collapsed": false,
     "input": [
      "import re\n",
      "pattern = \"2003\"\n",
      "filename = \"hivdata.txt\"\n",
      "fh = open(filename,\"r\")\n",
      "\n",
      "for line in fh:\n",
      "    mymatch=re.search(pattern,line)\n",
      "    if mymatch != None: # to avoid AttributeError in case of no match\n",
      "        print mymatch.string\n",
      "\n",
      "fh.close()"
     ],
     "language": "python",
     "metadata": {},
     "outputs": [
      {
       "output_type": "stream",
       "stream": "stdout",
       "text": [
        "   A3        antibody HIV-A   2003-06-11\n",
        "\n",
        "   C8   HIV-A/B, (antibody)    2003-8-15\n",
        "\n",
        "   33      antibody HIV-A/B     2003-2-2\n",
        "\n",
        "    6       antigen HIV-A/B   2003-11-15\n",
        "\n"
       ]
      }
     ],
     "prompt_number": 40
    },
    {
     "cell_type": "markdown",
     "metadata": {},
     "source": [
      "# Grouping\n",
      "\n",
      "Within regular expressions, we will often desire to match more than one pattern at the same time, or to extract different parts of the matched string as different variables.\n",
      "This can be accomplished by using groups. Sets of symbols enclosed in parentheses will be returned as separately accessible variables.\n"
     ]
    },
    {
     "cell_type": "code",
     "collapsed": false,
     "input": [
      "!cat hivdata.txt"
     ],
     "language": "python",
     "metadata": {},
     "outputs": [
      {
       "output_type": "stream",
       "stream": "stdout",
       "text": [
        " name  test,HIV-1 M subtype         date\r\n",
        "   A3        antibody HIV-A   2003-06-11\r\n",
        "   B5        antibody HIV-B   2011-06-01\r\n",
        "  A11     HIV-B, (antibody)   2009-12-11\r\n",
        "  C21       HIV-A (antigen)   2010-11-03\r\n",
        "   C8   HIV-A/B, (antibody)    2003-8-15\r\n",
        "   33      antibody HIV-A/B     2003-2-2\r\n",
        "   A4        antibody HIV-B    1998-6-20\r\n",
        "  A18      HIV-B, (antigen)   1997-05-08\r\n",
        "   C7      HIV-B (antibody)    1995-10-7\r\n",
        "    6       antigen HIV-A/B   2003-11-15\r\n",
        "  B30       HIV-A (antigen)   200-006-09\r\n"
       ]
      }
     ],
     "prompt_number": 48
    },
    {
     "cell_type": "code",
     "collapsed": false,
     "input": [
      "import re\n",
      "pattern = \"HIV-([AB])/?(B?)\"\n",
      "filename = \"hivdata.txt\"\n",
      "fh = open(filename,\"r\")\n",
      "\n",
      "for line in fh:\n",
      "    mygroups=re.findall(pattern,line)\n",
      "    print mygroups\n",
      "\n",
      "fh.close()"
     ],
     "language": "python",
     "metadata": {},
     "outputs": [
      {
       "output_type": "stream",
       "stream": "stdout",
       "text": [
        "[('A', '')]\n",
        "[('B', '')]\n",
        "[('B', '')]\n",
        "[('A', '')]\n",
        "[('A', 'B')]\n",
        "[('A', 'B')]\n",
        "[('B', '')]\n",
        "[('B', '')]\n",
        "[('B', '')]\n",
        "[('A', 'B')]\n",
        "[('A', '')]\n"
       ]
      }
     ],
     "prompt_number": 59
    },
    {
     "cell_type": "markdown",
     "metadata": {},
     "source": [
      "*re.findall* works just as *re.search*, but instead of returning the full string if there is a match, it returns a list of groups. When we put round paranthesis () around a part of our regular expression, its content is captured as a group. In the example above we have two sets of round paranthesis, hence we capture up to two groups, and hence *re.findall* returns a list of two elements.\n",
      "\n",
      "Taking this further, we can reuse the captured content of the groups by refering to them as *\\\\\\1*, *\\\\\\2*, etc, for the content of the first, second, etc group, respectively. *re.sub(pattern,replacement,mystring)* lets us substitute the occurences of the *pattern* in *mystring* with *replacement*."
     ]
    },
    {
     "cell_type": "code",
     "collapsed": false,
     "input": [
      "import re\n",
      "pattern_ts = \"(antibody|antigen) HIV-([AB])/?(B?)\"\n",
      "pattern_st = \"HIV-([AB])/?(B?)[\\,]? \\((antibody|antigen)\\)\"\n",
      "\n",
      "filename = \"hivdata.txt\"\n",
      "fh = open(filename,\"r\")\n",
      "\n",
      "for line in fh:\n",
      "    mymatch_ts=re.sub(pattern_ts,\"\\\\1, \\\\2\\\\3\",line)\n",
      "    mymatch_st=re.sub(pattern_st,\"\\\\3, \\\\1\\\\2\",mymatch_ts)\n",
      "    print mymatch_st\n",
      "\n",
      "fh.close()"
     ],
     "language": "python",
     "metadata": {},
     "outputs": [
      {
       "output_type": "stream",
       "stream": "stdout",
       "text": [
        " name  test,HIV-1 M subtype         date\n",
        "\n",
        "   A3        antibody, A   2003-06-11\n",
        "\n",
        "   B5        antibody, B   2011-06-01\n",
        "\n",
        "  A11     antibody, B   2009-12-11\n",
        "\n",
        "  C21       antigen, A   2010-11-03\n",
        "\n",
        "   C8   antibody, AB    2003-8-15\n",
        "\n",
        "   33      antibody, AB     2003-2-2\n",
        "\n",
        "   A4        antibody, B    1998-6-20\n",
        "\n",
        "  A18      antigen, B   1997-05-08\n",
        "\n",
        "   C7      antibody, B    1995-10-7\n",
        "\n",
        "    6       antigen, AB   2003-11-15\n",
        "\n",
        "  B30       antigen, A   200-006-09\n",
        "\n"
       ]
      }
     ],
     "prompt_number": 82
    },
    {
     "cell_type": "markdown",
     "metadata": {},
     "source": [
      "The End"
     ]
    }
   ],
   "metadata": {}
  }
 ]
}